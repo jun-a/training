{
 "cells": [
  {
   "cell_type": "code",
   "execution_count": 25,
   "metadata": {
    "collapsed": true
   },
   "outputs": [],
   "source": [
    "import commands\n",
    "\n",
    "def bq(query,enc='utf-8'):\n",
    "    res = commands.getoutput('bq query \"%s\"' %query)\n",
    "    print unicode(res, enc)"
   ]
  },
  {
   "cell_type": "markdown",
   "metadata": {},
   "source": [
    "#Google BigQuery\n",
    "\n",
    "<img src=\"./img/bigquery.jpeg\">\n",
    "\n",
    "## BigQueryとは\n",
    "\n",
    "Googleが提供するSQLライクな構文で問い合わせができる、ビッグデータ解析サービス。  \n",
    "インフラ構築、保守、などのもろもろの面倒事が不要で、低価格で運用ができる。  \n",
    "__かつ、高速！__\n",
    "\n",
    "TB級の大規模なDBのフルテーブルスキャンも数秒でこなす  \n",
    "・・・5000台のマシンを使って並列処理している（ものすごい力技）\n",
    "\n",
    "## SQLとの違い\n",
    "\n",
    "- データのネスト  \n",
    "- データのupdateができない  \n",
    "- javascriptでUDFが使える  \n",
    "\n",
    "## おいくら？\n",
    "\n",
    "### 課金形態\n",
    "\n",
    "- 使用ストレージ容量  \n",
    "\n",
    "$0.02 / 1GB (1月)  \n",
    "\n",
    "- クエリでスキャンするデータ量  \n",
    "\n",
    "$5 / 1TB  \n",
    "(毎月1TB分は無料)  \n",
    "\n",
    "- StreamingInsert  \n",
    "\n",
    "100,000行につき$0.01  \n",
    "(バルクインサートは無料)  \n",
    "\n",
    "### 課金対象\n",
    "\n",
    "BQはフルスキャン  \n",
    "= WHEREで対象の行を絞っても課金対象は変わらない  \n",
    "→テーブルの行数　×　使用したカラム　= スキャンするデータ量  \n",
    "\n",
    "<img src=\"./img/billing.jpg\">\n",
    "\n",
    "なので基本的にテーブルを月単位・日付単位などで分割して保存しておく  \n"
   ]
  },
  {
   "cell_type": "markdown",
   "metadata": {},
   "source": [
    "## 使ってみようBQ\n",
    "\n",
    "### 基本形"
   ]
  },
  {
   "cell_type": "code",
   "execution_count": null,
   "metadata": {
    "collapsed": true
   },
   "outputs": [],
   "source": [
    "# データセット名を付け加える以外は基本的にSQLと同じ\n",
    "SELECT\n",
    "    カラム名\n",
    "FROM\n",
    "    [データセット名.テーブル名]\n",
    "WHERE\n",
    "    条件\n",
    ";"
   ]
  },
  {
   "cell_type": "markdown",
   "metadata": {},
   "source": [
    "### UNION\n",
    "\n",
    "BQにはUNIONという演算子はない。  \n",
    "テーブル名をカンマ区切りで指定するだけでUNION ALLとして機能する"
   ]
  },
  {
   "cell_type": "code",
   "execution_count": 9,
   "metadata": {
    "collapsed": false
   },
   "outputs": [
    {
     "name": "stdout",
     "output_type": "stream",
     "text": [
      "\n"
     ]
    }
   ],
   "source": [
    "bq(\"\"\"\n",
    "SELECT\n",
    "    remote_host\n",
    "FROM\n",
    "    [Rejob.access_log_20150513],[Rejob.access_log_20150516]\n",
    "LIMIT 100\n",
    ";\n",
    "\"\"\")"
   ]
  },
  {
   "cell_type": "markdown",
   "metadata": {},
   "source": [
    "### TABLE_DATE_RANGE\n",
    "\n",
    "前述の通り、日付単位などで分割されているため、期間が長くなると指定するのが大変"
   ]
  },
  {
   "cell_type": "code",
   "execution_count": 1,
   "metadata": {
    "collapsed": false
   },
   "outputs": [
    {
     "ename": "IndentationError",
     "evalue": "unexpected indent (<ipython-input-1-afae23a14bcb>, line 4)",
     "output_type": "error",
     "traceback": [
      "\u001b[0;36m  File \u001b[0;32m\"<ipython-input-1-afae23a14bcb>\"\u001b[0;36m, line \u001b[0;32m4\u001b[0m\n\u001b[0;31m    remote_host, request_time\u001b[0m\n\u001b[0m    ^\u001b[0m\n\u001b[0;31mIndentationError\u001b[0m\u001b[0;31m:\u001b[0m unexpected indent\n"
     ]
    }
   ],
   "source": [
    "# access_log_で始まるテーブル名で日付の期間指定\n",
    "# テーブル名は'YYYYMMDD'で付けておく\n",
    "SELECT\n",
    "    remote_host, request_time\n",
    "FROM (\n",
    "    TABLE_DATE_RANGE(\n",
    "        Rejob.access_log_,\n",
    "        TIMESTAMP('2015-05-01'),\n",
    "        TIMESTAMP('2015-05-10')\n",
    "    )\n",
    ")\n",
    ";"
   ]
  },
  {
   "cell_type": "markdown",
   "metadata": {},
   "source": [
    "### TABLE_QUERY\n",
    "\n",
    "正規表現などでの指定もできる"
   ]
  },
  {
   "cell_type": "code",
   "execution_count": null,
   "metadata": {
    "collapsed": true
   },
   "outputs": [],
   "source": [
    "SELECT\n",
    "    request_time\n",
    "FROM\n",
    "    TABLE_QUERY(\n",
    "        Rejob,\n",
    "        'REGEXP_MATCH(table_id, r\"(sp|pc)_access_log_2015051[67$]\")'\n",
    "    )\n",
    ";"
   ]
  },
  {
   "cell_type": "markdown",
   "metadata": {},
   "source": [
    "## JOIN\n",
    "JOIN ・・・ 結合先のテーブルサイズが8MB以下でないとならない\n",
    "\n",
    "大規模テーブルでは \"JOIN __EACH__\" を使用する"
   ]
  },
  {
   "cell_type": "code",
   "execution_count": 26,
   "metadata": {
    "collapsed": false
   },
   "outputs": [
    {
     "name": "stdout",
     "output_type": "stream",
     "text": [
      "\n"
     ]
    }
   ],
   "source": [
    "bq(\"\"\"\n",
    "SELECT\n",
    "    c.id,\n",
    "    sd.name\n",
    "FROM\n",
    "    [Rejob.company] c\n",
    "        INNER JOIN\n",
    "    [Rejob.shop_data] sd\n",
    "        ON\n",
    "    c.id = sd.com_id\n",
    "LIMIT\n",
    "    10;\n",
    "\"\"\", 'shift-jis')\n",
    "# EACHを付けないとエラーが出る"
   ]
  },
  {
   "cell_type": "code",
   "execution_count": null,
   "metadata": {
    "collapsed": true
   },
   "outputs": [],
   "source": [
    "bq(\"\"\"\n",
    "SELECT\n",
    "    c.id,\n",
    "    sd.name\n",
    "FROM\n",
    "    [Rejob.company] c\n",
    "        INNER JOIN EACH\n",
    "    [Rejob.shop_data] sd\n",
    "        ON\n",
    "    c.id = sd.com_id\n",
    "LIMIT\n",
    "    10;\n",
    "\"\"\")"
   ]
  },
  {
   "cell_type": "markdown",
   "metadata": {},
   "source": [
    "### 正規表現系\n",
    "\n",
    "- REGEXP_MATCH - 正規表現にマッチするものを返す\n",
    "\n",
    "```sql\n",
    "REGEXP_MATCH(title, r'[Rr]uby( on [Rr]ails)?')\n",
    "```\n",
    "\n",
    "- REGEXP_EXTRACT - 正規表現でマッチした箇所(\\1)を返す\n",
    "\n",
    "```sql\n",
    "REGEXP_EXTRACT(title, r'Ruby on (.*)$')\n",
    "```\n",
    "\n",
    "- REGEXP_REPLACE - 正規表現で置換\n",
    "\n",
    "```sql\n",
    "REGEXP_REPLACE(title, r'(Ruby|Java[Ss]cript|Perl)', 'Python')\n",
    "```\n",
    "\n",
    "### WITHIN、FLATTEN\n",
    "\n",
    "ネストされたフィールドに対して使う\n",
    "*今回用意したデータセットでは使わないので割愛\n",
    "\n",
    "### その他\n",
    "\n",
    "その他にもいろいろな機能や関数があるので、詳しくはGoogleのリファレンスを参照\n",
    "https://cloud.google.com/bigquery/query-reference"
   ]
  },
  {
   "cell_type": "markdown",
   "metadata": {},
   "source": []
  }
 ],
 "metadata": {
  "kernelspec": {
   "display_name": "Python 2",
   "language": "python",
   "name": "python2"
  },
  "language_info": {
   "codemirror_mode": {
    "name": "ipython",
    "version": 2
   },
   "file_extension": ".py",
   "mimetype": "text/x-python",
   "name": "python",
   "nbconvert_exporter": "python",
   "pygments_lexer": "ipython2",
   "version": "2.7.10"
  }
 },
 "nbformat": 4,
 "nbformat_minor": 0
}
