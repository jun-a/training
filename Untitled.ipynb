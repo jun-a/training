{
 "cells": [
  {
   "cell_type": "code",
   "execution_count": 1,
   "metadata": {
    "collapsed": false
   },
   "outputs": [
    {
     "name": "stdout",
     "output_type": "stream",
     "text": [
      "Enter password: ········\n",
      "Verify password: ········\n"
     ]
    },
    {
     "data": {
      "text/plain": [
       "'sha1:cc8ba348f6bb:84691d87536c789322ad6ca9db9cd5cc738544f7'"
      ]
     },
     "execution_count": 1,
     "metadata": {},
     "output_type": "execute_result"
    }
   ],
   "source": [
    "from IPython.lib import passwd\n",
    "passwd()"
   ]
  },
  {
   "cell_type": "code",
   "execution_count": 2,
   "metadata": {
    "collapsed": false
   },
   "outputs": [
    {
     "name": "stdout",
     "output_type": "stream",
     "text": [
      "\n",
      "select\n",
      "*\n",
      "from\n",
      "scout_log\n",
      "\n"
     ]
    }
   ],
   "source": [
    "str = \"\"\"\n",
    "select\n",
    "*\n",
    "from\n",
    "scout_log\n",
    "\"\"\"\n",
    "\n",
    "print str"
   ]
  },
  {
   "cell_type": "code",
   "execution_count": 22,
   "metadata": {
    "collapsed": false
   },
   "outputs": [
    {
     "name": "stdout",
     "output_type": "stream",
     "text": [
      "select    *from    scout_logwhere    status = 1;\n",
      "hello    world\n"
     ]
    }
   ],
   "source": [
    "import re\n",
    "\n",
    "sql = \"\"\"select\n",
    "    *\n",
    "from\n",
    "    scout_log\n",
    "where\n",
    "    status = 1\n",
    ";\"\"\"\n",
    "\n",
    "print re.sub(r'\\n', r' ', sql)\n",
    "\n",
    "print re.sub(r'^\\s+', '', '    hello    world')"
   ]
  }
 ],
 "metadata": {
  "kernelspec": {
   "display_name": "Python 2",
   "language": "python",
   "name": "python2"
  },
  "language_info": {
   "codemirror_mode": {
    "name": "ipython",
    "version": 2
   },
   "file_extension": ".py",
   "mimetype": "text/x-python",
   "name": "python",
   "nbconvert_exporter": "python",
   "pygments_lexer": "ipython2",
   "version": "2.7.6"
  }
 },
 "nbformat": 4,
 "nbformat_minor": 0
}
